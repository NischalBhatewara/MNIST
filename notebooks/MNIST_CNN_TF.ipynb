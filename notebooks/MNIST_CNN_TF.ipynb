{
 "cells": [
  {
   "cell_type": "markdown",
   "metadata": {
    "deletable": true,
    "editable": true
   },
   "source": [
    "# CNN to predict MNIST images using TensorFlow"
   ]
  },
  {
   "cell_type": "code",
   "execution_count": 94,
   "metadata": {
    "collapsed": true,
    "deletable": true,
    "editable": true
   },
   "outputs": [],
   "source": [
    "# imports \n",
    "%matplotlib inline\n",
    "import numpy as np\n",
    "import tensorflow as tf\n",
    "import matplotlib.pyplot as plt\n",
    "from tensorflow.examples.tutorials.mnist import input_data"
   ]
  },
  {
   "cell_type": "code",
   "execution_count": 52,
   "metadata": {
    "collapsed": false,
    "deletable": true,
    "editable": true
   },
   "outputs": [
    {
     "name": "stdout",
     "output_type": "stream",
     "text": [
      "Extracting ../MNIST_data/train-images-idx3-ubyte.gz\n",
      "Extracting ../MNIST_data/train-labels-idx1-ubyte.gz\n",
      "Extracting ../MNIST_data/t10k-images-idx3-ubyte.gz\n",
      "Extracting ../MNIST_data/t10k-labels-idx1-ubyte.gz\n"
     ]
    }
   ],
   "source": [
    "data = input_data.read_data_sets(\"../MNIST_data/\", one_hot=True)"
   ]
  },
  {
   "cell_type": "markdown",
   "metadata": {
    "collapsed": true,
    "deletable": true,
    "editable": true
   },
   "source": [
    "## Building TF graph"
   ]
  },
  {
   "cell_type": "markdown",
   "metadata": {
    "deletable": true,
    "editable": true
   },
   "source": [
    "### Define placeholders"
   ]
  },
  {
   "cell_type": "code",
   "execution_count": 53,
   "metadata": {
    "collapsed": true,
    "deletable": true,
    "editable": true
   },
   "outputs": [],
   "source": [
    "# create an input node, shape is 28*28 for the number of pixels and None for batch_size(as in variable batch size)\n",
    "x = tf.placeholder(tf.float32, shape=[None, 28*28], name='x')\n",
    "\n",
    "# we reshape x to a 4d tensor of size [-1, 28, 28, 1], 28 for image height and width, 1 for channel\n",
    "x_train = tf.reshape(x, [-1, 28, 28, 1])\n",
    "\n",
    "# the expected output \n",
    "y_ = tf.placeholder(tf.float32, shape=[None, 10], name='y_')\n",
    "y_cls = tf.arg_max(y_, dimension=1)"
   ]
  },
  {
   "cell_type": "markdown",
   "metadata": {
    "deletable": true,
    "editable": true
   },
   "source": [
    "### Conv layer 1"
   ]
  },
  {
   "cell_type": "markdown",
   "metadata": {
    "deletable": true,
    "editable": true
   },
   "source": [
    "The first conv layer uses 32 filters of shape 5x5."
   ]
  },
  {
   "cell_type": "code",
   "execution_count": 54,
   "metadata": {
    "collapsed": true,
    "deletable": true,
    "editable": true
   },
   "outputs": [],
   "source": [
    "# init weights and bias\n",
    "\n",
    "# here we get truncated_normal values with a std deviation of 0.1\n",
    "# the shape is - [5, 5, 1, 16] for 5x5 filter, 1 input channel (as mnist is grey-scale), and 16 output channels\n",
    "W_conv1 = tf.Variable(tf.truncated_normal([5, 5, 1, 16], stddev=0.1))\n",
    "\n",
    "# bias for each of the 16 output channels\n",
    "b_conv1 = tf.Variable(tf.constant(0.1, shape=[16]))"
   ]
  },
  {
   "cell_type": "code",
   "execution_count": 55,
   "metadata": {
    "collapsed": true,
    "deletable": true,
    "editable": true
   },
   "outputs": [],
   "source": [
    "# create a conv layer\n",
    "# input is x_train, specifies the input to the layer\n",
    "# filers are the weights \n",
    "# stride is [1, 1, 1, 1], the first and last are always 1, first for image number and the last for input channel\n",
    "# for a 2x2 stride, use [1, 2, 2, 1]\n",
    "# padding = same, the input image is padded with 0, to make output of same size\n",
    "conv1 = tf.nn.conv2d(input=x_train, filter=W_conv1, strides=[1, 1, 1, 1], padding='SAME')\n",
    "\n",
    "# add the bias \n",
    "conv1_plus_b = conv1 + b_conv1\n",
    "\n",
    "# max pool this layer\n",
    "# the value is the layer to pool upon\n",
    "# ksize?\n",
    "pool1 = tf.nn.max_pool(value=conv1_plus_b, ksize=[1, 2, 2, 1], strides=[1, 2, 2, 1], padding='SAME')\n",
    "\n",
    "# apply relu\n",
    "# basically computers max(x, 0) for each x\n",
    "relu1 = tf.nn.relu(pool1)"
   ]
  },
  {
   "cell_type": "code",
   "execution_count": 56,
   "metadata": {
    "collapsed": false,
    "deletable": true,
    "editable": true
   },
   "outputs": [
    {
     "data": {
      "text/plain": [
       "<tf.Tensor 'Relu_5:0' shape=(?, 14, 14, 16) dtype=float32>"
      ]
     },
     "execution_count": 56,
     "metadata": {},
     "output_type": "execute_result"
    }
   ],
   "source": [
    "relu1"
   ]
  },
  {
   "cell_type": "markdown",
   "metadata": {
    "deletable": true,
    "editable": true
   },
   "source": [
    "### Conv layer 2"
   ]
  },
  {
   "cell_type": "markdown",
   "metadata": {
    "deletable": true,
    "editable": true
   },
   "source": [
    "Same as above, build second conv layer"
   ]
  },
  {
   "cell_type": "code",
   "execution_count": 57,
   "metadata": {
    "collapsed": false,
    "deletable": true,
    "editable": true
   },
   "outputs": [],
   "source": [
    "# weight and bias\n",
    "W_conv2 = tf.Variable(tf.truncated_normal([5, 5, 16, 32], stddev=0.1))\n",
    "b_conv2 = tf.Variable(tf.constant(0.1, shape=[32]))\n",
    "\n",
    "# build layer\n",
    "conv2 = tf.nn.conv2d(input=relu1, filter=W_conv2, strides=[1, 1, 1, 1], padding='SAME')\n",
    "conv2_plus_b = conv2 + b_conv2\n",
    "pool2 = tf.nn.max_pool(value=conv2_plus_b, ksize=[1, 2, 2, 1], strides=[1, 2, 2, 1], padding='SAME')\n",
    "relu2 = tf.nn.relu(pool2)"
   ]
  },
  {
   "cell_type": "code",
   "execution_count": 58,
   "metadata": {
    "collapsed": false,
    "deletable": true,
    "editable": true
   },
   "outputs": [
    {
     "data": {
      "text/plain": [
       "<tf.Tensor 'Relu_6:0' shape=(?, 7, 7, 32) dtype=float32>"
      ]
     },
     "execution_count": 58,
     "metadata": {},
     "output_type": "execute_result"
    }
   ],
   "source": [
    "relu2"
   ]
  },
  {
   "cell_type": "markdown",
   "metadata": {
    "deletable": true,
    "editable": true
   },
   "source": [
    "### Flatten layer"
   ]
  },
  {
   "cell_type": "markdown",
   "metadata": {
    "deletable": true,
    "editable": true
   },
   "source": [
    "The conv layer 2 outputs a 4d tensor, but we need a 2d tensor for the fully connected layer, thus this flatten layer"
   ]
  },
  {
   "cell_type": "code",
   "execution_count": 59,
   "metadata": {
    "collapsed": true,
    "deletable": true,
    "editable": true
   },
   "outputs": [],
   "source": [
    "flat_layer = tf.reshape(relu2, [-1, 7 * 7 * 32])"
   ]
  },
  {
   "cell_type": "code",
   "execution_count": 60,
   "metadata": {
    "collapsed": false,
    "deletable": true,
    "editable": true
   },
   "outputs": [
    {
     "data": {
      "text/plain": [
       "<tf.Tensor 'Reshape_10:0' shape=(?, 1568) dtype=float32>"
      ]
     },
     "execution_count": 60,
     "metadata": {},
     "output_type": "execute_result"
    }
   ],
   "source": [
    "flat_layer"
   ]
  },
  {
   "cell_type": "markdown",
   "metadata": {
    "deletable": true,
    "editable": true
   },
   "source": [
    "### Fully connected layer 1"
   ]
  },
  {
   "cell_type": "markdown",
   "metadata": {
    "deletable": true,
    "editable": true
   },
   "source": [
    "Our first fully connected layer, with 128 neurons."
   ]
  },
  {
   "cell_type": "code",
   "execution_count": 61,
   "metadata": {
    "collapsed": false,
    "deletable": true,
    "editable": true
   },
   "outputs": [],
   "source": [
    "# weight and bias\n",
    "W_fc1 = tf.Variable(tf.truncated_normal([7 * 7 * 32, 128], stddev=0.1))\n",
    "b_fc1 = tf.Variable(tf.constant(0.1, shape=[128]))\n",
    "\n",
    "# fc layer\n",
    "math_fc1 = tf.matmul(flat_layer, W_fc1) + b_fc1\n",
    "fc1 = tf.nn.relu(math_fc1)"
   ]
  },
  {
   "cell_type": "code",
   "execution_count": 62,
   "metadata": {
    "collapsed": false,
    "deletable": true,
    "editable": true
   },
   "outputs": [
    {
     "data": {
      "text/plain": [
       "<tf.Tensor 'Relu_7:0' shape=(?, 128) dtype=float32>"
      ]
     },
     "execution_count": 62,
     "metadata": {},
     "output_type": "execute_result"
    }
   ],
   "source": [
    "fc1"
   ]
  },
  {
   "cell_type": "markdown",
   "metadata": {
    "deletable": true,
    "editable": true
   },
   "source": [
    "### Dropout layer"
   ]
  },
  {
   "cell_type": "markdown",
   "metadata": {
    "deletable": true,
    "editable": true
   },
   "source": [
    "This layer randomly drops a few neurons, to reduce overfitting"
   ]
  },
  {
   "cell_type": "code",
   "execution_count": 63,
   "metadata": {
    "collapsed": true,
    "deletable": true,
    "editable": true
   },
   "outputs": [],
   "source": [
    "keep_prob = tf.placeholder(tf.float32)\n",
    "drop_out = tf.nn.dropout(fc1, keep_prob)"
   ]
  },
  {
   "cell_type": "code",
   "execution_count": 64,
   "metadata": {
    "collapsed": false,
    "deletable": true,
    "editable": true
   },
   "outputs": [
    {
     "data": {
      "text/plain": [
       "<tf.Tensor 'dropout_1/mul:0' shape=(?, 128) dtype=float32>"
      ]
     },
     "execution_count": 64,
     "metadata": {},
     "output_type": "execute_result"
    }
   ],
   "source": [
    "drop_out"
   ]
  },
  {
   "cell_type": "markdown",
   "metadata": {
    "deletable": true,
    "editable": true
   },
   "source": [
    "### Fully connected layer 2"
   ]
  },
  {
   "cell_type": "markdown",
   "metadata": {
    "deletable": true,
    "editable": true
   },
   "source": [
    "Scrond FC layer, has 10 neurons, each for one of the digits"
   ]
  },
  {
   "cell_type": "code",
   "execution_count": 65,
   "metadata": {
    "collapsed": true,
    "deletable": true,
    "editable": true
   },
   "outputs": [],
   "source": [
    "# weight and bias\n",
    "W_fc2 = tf.Variable(tf.truncated_normal([128 ,10], stddev=0.1))\n",
    "b_fc2 = tf.Variable(tf.constant(0.1, shape=[10]))\n",
    "\n",
    "# fc layer\n",
    "fc2 = tf.matmul(drop_out, W_fc2) + b_fc2"
   ]
  },
  {
   "cell_type": "code",
   "execution_count": 66,
   "metadata": {
    "collapsed": false,
    "deletable": true,
    "editable": true
   },
   "outputs": [
    {
     "data": {
      "text/plain": [
       "<tf.Tensor 'add_11:0' shape=(?, 10) dtype=float32>"
      ]
     },
     "execution_count": 66,
     "metadata": {},
     "output_type": "execute_result"
    }
   ],
   "source": [
    "fc2"
   ]
  },
  {
   "cell_type": "markdown",
   "metadata": {
    "deletable": true,
    "editable": true
   },
   "source": [
    "### Softmax layer"
   ]
  },
  {
   "cell_type": "markdown",
   "metadata": {
    "deletable": true,
    "editable": true
   },
   "source": [
    "Add a softmax layer to normalize the output, and use argmax to get digit"
   ]
  },
  {
   "cell_type": "code",
   "execution_count": 67,
   "metadata": {
    "collapsed": true,
    "deletable": true,
    "editable": true
   },
   "outputs": [],
   "source": [
    "y_pred = tf.nn.softmax(fc2)\n",
    "y_pred_cls = tf.arg_max(y_pred, dimension=1)"
   ]
  },
  {
   "cell_type": "code",
   "execution_count": 68,
   "metadata": {
    "collapsed": false,
    "deletable": true,
    "editable": true
   },
   "outputs": [
    {
     "data": {
      "text/plain": [
       "<tf.Tensor 'ArgMax_3:0' shape=(?,) dtype=int64>"
      ]
     },
     "execution_count": 68,
     "metadata": {},
     "output_type": "execute_result"
    }
   ],
   "source": [
    "y_pred_cls"
   ]
  },
  {
   "cell_type": "markdown",
   "metadata": {
    "deletable": true,
    "editable": true
   },
   "source": [
    "We have finished building out CNN"
   ]
  },
  {
   "cell_type": "markdown",
   "metadata": {
    "deletable": true,
    "editable": true
   },
   "source": [
    "### Defining cost function and optimizer"
   ]
  },
  {
   "cell_type": "code",
   "execution_count": 69,
   "metadata": {
    "collapsed": true,
    "deletable": true,
    "editable": true
   },
   "outputs": [],
   "source": [
    "# cost (to minimize)\n",
    "cross_entropy = tf.nn.softmax_cross_entropy_with_logits(logits=fc2, labels=y_)\n",
    "cost = tf.reduce_mean(cross_entropy)\n",
    "\n",
    "# using adamoptimizer\n",
    "optimizer = tf.train.AdamOptimizer(learning_rate=1e-4).minimize(cost)\n",
    "\n",
    "# pref measures\n",
    "correct_pred = tf.equal(y_pred_cls, y_cls)\n",
    "acc = tf.reduce_mean(tf.cast(correct_pred, tf.float32))"
   ]
  },
  {
   "cell_type": "markdown",
   "metadata": {
    "deletable": true,
    "editable": true
   },
   "source": [
    "## Training"
   ]
  },
  {
   "cell_type": "code",
   "execution_count": 70,
   "metadata": {
    "collapsed": true,
    "deletable": true,
    "editable": true
   },
   "outputs": [],
   "source": [
    "session = tf.Session()\n",
    "session.run(tf.global_variables_initializer())"
   ]
  },
  {
   "cell_type": "code",
   "execution_count": null,
   "metadata": {
    "collapsed": true
   },
   "outputs": [],
   "source": [
    "saver = tf.train.Saver()\n",
    "saver.restore(session, \"../models/tf_cnn_6k.ckpt\")"
   ]
  },
  {
   "cell_type": "code",
   "execution_count": 78,
   "metadata": {
    "collapsed": true,
    "deletable": true,
    "editable": true
   },
   "outputs": [],
   "source": [
    "batch_size = 512"
   ]
  },
  {
   "cell_type": "code",
   "execution_count": 72,
   "metadata": {
    "collapsed": false,
    "deletable": true,
    "editable": true
   },
   "outputs": [],
   "source": [
    "# helper to optimize\n",
    "tot_iter = 0\n",
    "\n",
    "def optimize(num_iter):\n",
    "    global tot_iter\n",
    "    \n",
    "    for i in range(tot_iter, tot_iter + num_iter):\n",
    "        \n",
    "        x_batch, y_batch = data.train.next_batch(batch_size)\n",
    "        f_d = {x: x_batch, y_: y_batch, keep_prob: 0.5}\n",
    "        \n",
    "        session.run(optimizer, feed_dict=f_d)\n",
    "        \n",
    "        if i % 100 == 0:\n",
    "            a = session.run(acc, f_d)\n",
    "            msg = \"Iteration: {0:>6}, Acc: {1:6.1%}\"\n",
    "            print(msg.format(i + 1, a))\n",
    "            \n",
    "        tot_iter += 1"
   ]
  },
  {
   "cell_type": "code",
   "execution_count": 95,
   "metadata": {
    "collapsed": false,
    "deletable": true,
    "editable": true
   },
   "outputs": [],
   "source": [
    "from sklearn.metrics import confusion_matrix\n",
    "\n",
    "data_cls = np.argmax(data.test.labels, axis=1)\n",
    "def acc_test():\n",
    "    y_pred = session.run(y_pred_cls, feed_dict={\n",
    "        x: data.test.images,\n",
    "        y_: data.test.labels,\n",
    "        keep_prob: 1.0\n",
    "    })\n",
    "    \n",
    "    correct = (y_pred == data_cls)\n",
    "    correcr_sum = correct.sum()\n",
    "    \n",
    "    acc = correcr_sum/len(data_cls)\n",
    "    msg = \"Pred acc: {0:6.1%}\"\n",
    "    print(msg.format(acc))    \n",
    "    \n",
    "    print(\"\\nConfusion matrix\")\n",
    "    cm = confusion_matrix(y_pred=y_pred, y_true=data_cls)\n",
    "    print(cm)\n",
    "    \n",
    "    plt.matshow(cm)\n",
    "    plt.colorbar()\n",
    "    plt.xlabel('Pred')\n",
    "    plt.ylabel('True')"
   ]
  },
  {
   "cell_type": "markdown",
   "metadata": {
    "deletable": true,
    "editable": true
   },
   "source": [
    "### Optimize"
   ]
  },
  {
   "cell_type": "code",
   "execution_count": 77,
   "metadata": {
    "collapsed": false,
    "deletable": true,
    "editable": true
   },
   "outputs": [
    {
     "name": "stdout",
     "output_type": "stream",
     "text": [
      "Iteration:    101, Acc:  55.8%\n",
      "Iteration:    201, Acc:  74.9%\n",
      "Iteration:    301, Acc:  83.2%\n",
      "Iteration:    401, Acc:  85.2%\n",
      "Iteration:    501, Acc:  89.2%\n",
      "Iteration:    601, Acc:  90.2%\n",
      "Iteration:    701, Acc:  92.0%\n",
      "Iteration:    801, Acc:  94.1%\n",
      "Iteration:    901, Acc:  91.6%\n",
      "Iteration:   1001, Acc:  93.8%\n"
     ]
    }
   ],
   "source": [
    "optimize(1000)"
   ]
  },
  {
   "cell_type": "code",
   "execution_count": 88,
   "metadata": {
    "collapsed": false,
    "deletable": true,
    "editable": true
   },
   "outputs": [
    {
     "name": "stdout",
     "output_type": "stream",
     "text": [
      "Pred acc:  96.3%\n"
     ]
    }
   ],
   "source": [
    "acc_test()"
   ]
  },
  {
   "cell_type": "markdown",
   "metadata": {
    "deletable": true,
    "editable": true
   },
   "source": [
    "After about 1k iterations, train acc is at 93%\n",
    "<br>Strangely, test acc is 97%??"
   ]
  },
  {
   "cell_type": "code",
   "execution_count": 89,
   "metadata": {
    "collapsed": false,
    "deletable": true,
    "editable": true
   },
   "outputs": [
    {
     "name": "stdout",
     "output_type": "stream",
     "text": [
      "Iteration:   1101, Acc:  93.2%\n",
      "Iteration:   1201, Acc:  93.8%\n",
      "Iteration:   1301, Acc:  94.9%\n",
      "Iteration:   1401, Acc:  95.3%\n",
      "Iteration:   1501, Acc:  95.3%\n",
      "Iteration:   1601, Acc:  96.1%\n",
      "Iteration:   1701, Acc:  96.3%\n",
      "Iteration:   1801, Acc:  94.7%\n",
      "Iteration:   1901, Acc:  96.1%\n",
      "Iteration:   2001, Acc:  95.7%\n",
      "Iteration:   2101, Acc:  95.5%\n",
      "Iteration:   2201, Acc:  95.3%\n",
      "Iteration:   2301, Acc:  96.9%\n",
      "Iteration:   2401, Acc:  96.7%\n",
      "Iteration:   2501, Acc:  98.2%\n",
      "Iteration:   2601, Acc:  95.9%\n",
      "Iteration:   2701, Acc:  98.0%\n",
      "Iteration:   2801, Acc:  96.7%\n",
      "Iteration:   2901, Acc:  96.9%\n",
      "Iteration:   3001, Acc:  97.5%\n"
     ]
    }
   ],
   "source": [
    "optimize(2000)"
   ]
  },
  {
   "cell_type": "code",
   "execution_count": 90,
   "metadata": {
    "collapsed": false,
    "deletable": true,
    "editable": true
   },
   "outputs": [
    {
     "name": "stdout",
     "output_type": "stream",
     "text": [
      "Pred acc:  98.3%\n"
     ]
    }
   ],
   "source": [
    "acc_test()"
   ]
  },
  {
   "cell_type": "markdown",
   "metadata": {
    "deletable": true,
    "editable": true
   },
   "source": [
    "After 3k iterations, we have 98% on test class"
   ]
  },
  {
   "cell_type": "code",
   "execution_count": 91,
   "metadata": {
    "collapsed": false,
    "deletable": true,
    "editable": true
   },
   "outputs": [
    {
     "name": "stdout",
     "output_type": "stream",
     "text": [
      "Iteration:   3101, Acc:  97.3%\n",
      "Iteration:   3201, Acc:  96.9%\n",
      "Iteration:   3301, Acc:  97.5%\n",
      "Iteration:   3401, Acc:  96.7%\n",
      "Iteration:   3501, Acc:  97.5%\n",
      "Iteration:   3601, Acc:  98.8%\n",
      "Iteration:   3701, Acc:  98.6%\n",
      "Iteration:   3801, Acc:  97.5%\n",
      "Iteration:   3901, Acc:  98.4%\n",
      "Iteration:   4001, Acc:  96.9%\n",
      "Iteration:   4101, Acc:  97.3%\n",
      "Iteration:   4201, Acc:  97.7%\n",
      "Iteration:   4301, Acc:  97.5%\n",
      "Iteration:   4401, Acc:  97.3%\n",
      "Iteration:   4501, Acc:  98.0%\n",
      "Iteration:   4601, Acc:  98.8%\n",
      "Iteration:   4701, Acc:  96.5%\n",
      "Iteration:   4801, Acc:  98.2%\n",
      "Iteration:   4901, Acc:  98.4%\n",
      "Iteration:   5001, Acc:  97.5%\n",
      "Iteration:   5101, Acc:  97.7%\n",
      "Iteration:   5201, Acc:  97.9%\n",
      "Iteration:   5301, Acc:  98.2%\n",
      "Iteration:   5401, Acc:  98.4%\n",
      "Iteration:   5501, Acc:  98.4%\n",
      "Iteration:   5601, Acc:  98.6%\n",
      "Iteration:   5701, Acc:  97.7%\n",
      "Iteration:   5801, Acc:  97.5%\n",
      "Iteration:   5901, Acc:  98.6%\n",
      "Iteration:   6001, Acc:  98.8%\n"
     ]
    }
   ],
   "source": [
    "optimize(3000)"
   ]
  },
  {
   "cell_type": "code",
   "execution_count": 92,
   "metadata": {
    "collapsed": false,
    "deletable": true,
    "editable": true
   },
   "outputs": [
    {
     "name": "stdout",
     "output_type": "stream",
     "text": [
      "Pred acc:  98.9%\n"
     ]
    }
   ],
   "source": [
    "acc_test()"
   ]
  },
  {
   "cell_type": "markdown",
   "metadata": {
    "deletable": true,
    "editable": true
   },
   "source": [
    "After 6k iterations, test acc is around 99%"
   ]
  },
  {
   "cell_type": "code",
   "execution_count": 96,
   "metadata": {
    "collapsed": false,
    "deletable": true,
    "editable": true
   },
   "outputs": [
    {
     "name": "stdout",
     "output_type": "stream",
     "text": [
      "Pred acc:  98.9%\n",
      "\n",
      "Confusion matrix\n",
      "[[ 975    0    0    0    0    0    1    1    3    0]\n",
      " [   0 1130    3    0    0    0    0    1    1    0]\n",
      " [   2    0 1023    0    0    0    0    3    4    0]\n",
      " [   0    0    1 1003    0    2    0    1    2    1]\n",
      " [   0    0    2    0  975    0    1    0    2    2]\n",
      " [   2    0    0    6    0  878    3    1    0    2]\n",
      " [   4    2    0    1    1    2  946    0    2    0]\n",
      " [   0    1    7    3    0    0    0 1014    1    2]\n",
      " [   3    0    2    1    2    0    0    2  960    4]\n",
      " [   4    3    0    2    3    2    0    3    2  990]]\n"
     ]
    },
    {
     "data": {
      "image/png": "[encoded data removed]",
      "text/plain": [
       "<matplotlib.figure.Figure at 0x7f82b2067940>"
      ]
     },
     "metadata": {},
     "output_type": "display_data"
    }
   ],
   "source": [
    "acc_test()"
   ]
  },
  {
   "cell_type": "markdown",
   "metadata": {
    "deletable": true,
    "editable": true
   },
   "source": [
    "From the confusion matrix, we can see that the most confused are (3, 8) and (2, 5)"
   ]
  },
  {
   "cell_type": "markdown",
   "metadata": {
    "deletable": true,
    "editable": true
   },
   "source": [
    "## Save Model"
   ]
  },
  {
   "cell_type": "code",
   "execution_count": 97,
   "metadata": {
    "collapsed": false,
    "deletable": true,
    "editable": true
   },
   "outputs": [
    {
     "name": "stdout",
     "output_type": "stream",
     "text": [
      "Save in ../models/tf_cnn_6k.ckpt\n"
     ]
    }
   ],
   "source": [
    "saver = tf.train.Saver()\n",
    "sp = saver.save(session, \"../models/tf_cnn_6k.ckpt\")\n",
    "print(\"Save in {0}\".format(sp))"
   ]
  },
  {
   "cell_type": "markdown",
   "metadata": {
    "deletable": true,
    "editable": true
   },
   "source": [
    "## Close session! Very IMP!!"
   ]
  },
  {
   "cell_type": "code",
   "execution_count": 98,
   "metadata": {
    "collapsed": true,
    "deletable": true,
    "editable": true
   },
   "outputs": [],
   "source": [
    "session.close()"
   ]
  },
  {
   "cell_type": "code",
   "execution_count": null,
   "metadata": {
    "collapsed": true,
    "deletable": true,
    "editable": true
   },
   "outputs": [],
   "source": []
  }
 ],
 "metadata": {
  "kernelspec": {
   "display_name": "Python 3",
   "language": "python",
   "name": "python3"
  },
  "language_info": {
   "codemirror_mode": {
    "name": "ipython",
    "version": 3
   },
   "file_extension": ".py",
   "mimetype": "text/x-python",
   "name": "python",
   "nbconvert_exporter": "python",
   "pygments_lexer": "ipython3",
   "version": "3.6.0"
  }
 },
 "nbformat": 4,
 "nbformat_minor": 2
}
